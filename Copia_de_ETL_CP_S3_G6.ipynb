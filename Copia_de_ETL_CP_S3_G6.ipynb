{
  "nbformat": 4,
  "nbformat_minor": 0,
  "metadata": {
    "colab": {
      "provenance": [],
      "toc_visible": true,
      "include_colab_link": true
    },
    "kernelspec": {
      "name": "python3",
      "display_name": "Python 3"
    },
    "language_info": {
      "name": "python"
    }
  },
  "cells": [
    {
      "cell_type": "markdown",
      "metadata": {
        "id": "view-in-github",
        "colab_type": "text"
      },
      "source": [
        "<a href=\"https://colab.research.google.com/github/rogra4813/GRUPO6/blob/main/Copia_de_ETL_CP_S3_G6.ipynb\" target=\"_parent\"><img src=\"https://colab.research.google.com/assets/colab-badge.svg\" alt=\"Open In Colab\"/></a>"
      ]
    },
    {
      "cell_type": "markdown",
      "source": [
        "# **Ejercicio Práctico Clase 3 - Grupo 6**\n",
        "\n",
        "Integrantes:\n",
        "- Francisco García\n",
        "- Robert Granda\n",
        "- Fabián Quito\n",
        "- Gabriel Salazar\n",
        "\n",
        "\n",
        "\n",
        "---\n",
        "\n"
      ],
      "metadata": {
        "id": "wU8H3wSqBxOl"
      }
    },
    {
      "cell_type": "code",
      "source": [
        "!pip install selenium\n",
        "!pip install sqlalchemy"
      ],
      "metadata": {
        "colab": {
          "base_uri": "https://localhost:8080/"
        },
        "id": "9kPjZxKXV4UD",
        "outputId": "3ddd7224-5678-4b6a-f018-79a562b09982"
      },
      "execution_count": null,
      "outputs": [
        {
          "output_type": "stream",
          "name": "stdout",
          "text": [
            "Requirement already satisfied: selenium in /usr/local/lib/python3.10/dist-packages (4.26.1)\n",
            "Requirement already satisfied: urllib3<3,>=1.26 in /usr/local/lib/python3.10/dist-packages (from urllib3[socks]<3,>=1.26->selenium) (2.2.3)\n",
            "Requirement already satisfied: trio~=0.17 in /usr/local/lib/python3.10/dist-packages (from selenium) (0.27.0)\n",
            "Requirement already satisfied: trio-websocket~=0.9 in /usr/local/lib/python3.10/dist-packages (from selenium) (0.11.1)\n",
            "Requirement already satisfied: certifi>=2021.10.8 in /usr/local/lib/python3.10/dist-packages (from selenium) (2024.8.30)\n",
            "Requirement already satisfied: typing_extensions~=4.9 in /usr/local/lib/python3.10/dist-packages (from selenium) (4.12.2)\n",
            "Requirement already satisfied: websocket-client~=1.8 in /usr/local/lib/python3.10/dist-packages (from selenium) (1.8.0)\n",
            "Requirement already satisfied: attrs>=23.2.0 in /usr/local/lib/python3.10/dist-packages (from trio~=0.17->selenium) (24.2.0)\n",
            "Requirement already satisfied: sortedcontainers in /usr/local/lib/python3.10/dist-packages (from trio~=0.17->selenium) (2.4.0)\n",
            "Requirement already satisfied: idna in /usr/local/lib/python3.10/dist-packages (from trio~=0.17->selenium) (3.10)\n",
            "Requirement already satisfied: outcome in /usr/local/lib/python3.10/dist-packages (from trio~=0.17->selenium) (1.3.0.post0)\n",
            "Requirement already satisfied: sniffio>=1.3.0 in /usr/local/lib/python3.10/dist-packages (from trio~=0.17->selenium) (1.3.1)\n",
            "Requirement already satisfied: exceptiongroup in /usr/local/lib/python3.10/dist-packages (from trio~=0.17->selenium) (1.2.2)\n",
            "Requirement already satisfied: wsproto>=0.14 in /usr/local/lib/python3.10/dist-packages (from trio-websocket~=0.9->selenium) (1.2.0)\n",
            "Requirement already satisfied: pysocks!=1.5.7,<2.0,>=1.5.6 in /usr/local/lib/python3.10/dist-packages (from urllib3[socks]<3,>=1.26->selenium) (1.7.1)\n",
            "Requirement already satisfied: h11<1,>=0.9.0 in /usr/local/lib/python3.10/dist-packages (from wsproto>=0.14->trio-websocket~=0.9->selenium) (0.14.0)\n",
            "Requirement already satisfied: sqlalchemy in /usr/local/lib/python3.10/dist-packages (2.0.36)\n",
            "Requirement already satisfied: typing-extensions>=4.6.0 in /usr/local/lib/python3.10/dist-packages (from sqlalchemy) (4.12.2)\n",
            "Requirement already satisfied: greenlet!=0.4.17 in /usr/local/lib/python3.10/dist-packages (from sqlalchemy) (3.1.1)\n"
          ]
        }
      ]
    },
    {
      "cell_type": "markdown",
      "source": [
        "# Librerías"
      ],
      "metadata": {
        "id": "f1NYX6EVgxbG"
      }
    },
    {
      "cell_type": "code",
      "source": [
        "import requests\n",
        "from bs4 import BeautifulSoup\n",
        "import pandas as pd\n",
        "import datetime\n",
        "import os\n",
        "from selenium import webdriver\n",
        "from selenium.webdriver.chrome.options import Options\n",
        "from selenium.webdriver.common.by import By\n",
        "from selenium.webdriver.support.ui import WebDriverWait\n",
        "from selenium.webdriver.support import expected_conditions as EC\n",
        "from IPython.display import HTML\n",
        "import sqlite3\n",
        "from sqlalchemy import create_engine, inspect\n",
        "import locale\n",
        "\n",
        "# Nombre del archivo CSV donde se almacenarán los datos\n",
        "archivo_csv = \"datos_criptomonedas.csv\"\n",
        "csv_transformaciones = \"datos_criptos_oper.csv\""
      ],
      "metadata": {
        "id": "R8MNmMJn0yuH"
      },
      "execution_count": null,
      "outputs": []
    },
    {
      "cell_type": "markdown",
      "source": [
        "# Extracción de Datos"
      ],
      "metadata": {
        "id": "44eonIqCgsAY"
      }
    },
    {
      "cell_type": "code",
      "source": [
        "def extraer_datos():\n",
        "    \"\"\"\n",
        "    Extrae los datos de la tabla de criptomonedas desde la web, limitados a los primeros 10 registros.\n",
        "    \"\"\"\n",
        "    url = \"https://es.investing.com/crypto\"\n",
        "\n",
        "    chrome_options = Options()\n",
        "    chrome_options.add_argument(\"--headless\")\n",
        "    chrome_options.add_argument(\"--no-sandbox\")\n",
        "    chrome_options.add_argument(\"--disable-dev-shm-usage\")\n",
        "\n",
        "    # WebDriver\n",
        "    driver = webdriver.Chrome(options=chrome_options)\n",
        "\n",
        "    # Carga con tiempo de espera para evitar datos erróneos\n",
        "    driver.set_page_load_timeout(180)\n",
        "    try:\n",
        "        driver.get(url)\n",
        "    except TimeoutException as ex:\n",
        "        print(f\"Excepción de TimeOut: {ex}\")\n",
        "        driver.quit()  # En caso de no responder, cierra\n",
        "        return None\n",
        "\n",
        "    try:\n",
        "        element = WebDriverWait(driver, 10).until(\n",
        "            EC.presence_of_element_located((By.TAG_NAME, \"table\"))\n",
        "        )\n",
        "    except:\n",
        "        print(\"Carga incorrecta. Tiempo máximo alcanzado!\")\n",
        "        driver.quit()\n",
        "        return None\n",
        "\n",
        "    html = driver.page_source\n",
        "\n",
        "    soup = BeautifulSoup(html, \"html.parser\")\n",
        "    tables = soup.find_all(\"table\")\n",
        "\n",
        "    if len(tables) > 0:\n",
        "        # Identificar la tabla principal\n",
        "        table = tables[0]\n",
        "\n",
        "        # Extraer encabezados de la tabla\n",
        "        header_row = table.find(\"thead\").find_all(\"th\")\n",
        "        column_names = [header.text.strip() for header in header_row]\n",
        "\n",
        "        # Extraer filas de datos\n",
        "        rows = table.find(\"tbody\").find_all(\"tr\")\n",
        "        data = []\n",
        "\n",
        "        special_coin_names = {\n",
        "            \"Tether USDt\": \"tether.png\",\n",
        "            \"USDC\": \"usd-coin.png\",\n",
        "            \"Shiba Inu\": \"shiba-inu.png\",\n",
        "            \"Bitcoin Cash\": \"bitcoin-cash.png\",\n",
        "            \"UNUS SED LEO\": \"unus-sed-leo.png\",\n",
        "            \"NEAR Protocol\": \"near-protocol.png\",\n",
        "            \"Polkadot\": \"polkadot-new.png\"\n",
        "        }\n",
        "\n",
        "        for row in rows[:10]:  # Limitar a los primeros 10 registros\n",
        "            cols = row.find_all(\"td\")\n",
        "\n",
        "            # Obtención de nombre de criptomoneda\n",
        "            coin_name_element = cols[1].find('a')  # tag seleccionado por inspección en página web\n",
        "            if coin_name_element:\n",
        "                coin_name = coin_name_element.text.strip()\n",
        "                if coin_name in special_coin_names:\n",
        "                    logo_filename = special_coin_names[coin_name]\n",
        "                else:\n",
        "                    logo_filename = f\"{coin_name.lower()}.png\"\n",
        "                logo_url = f\"https://cdn.investing.com/crypto-logos/20x20/v2/{logo_filename.lower()}\"\n",
        "\n",
        "                # Abrir logotipo de la moneda\n",
        "                driver.execute_script(f\"window.open('{logo_url}', '_blank');\")\n",
        "\n",
        "                # Agregar URL de imagen\n",
        "                cols_text = [ele.text.strip() for ele in cols[1:]]\n",
        "                cols_text.insert(0, logo_url)  # Primera columna (logo)\n",
        "                if cols_text:\n",
        "                    data.append(cols_text)\n",
        "            else:\n",
        "                print(\"Coin name not found in hypertext for this row.\")\n",
        "\n",
        "        if os.path.exists(archivo_csv):\n",
        "            existing_df = pd.read_csv(archivo_csv)\n",
        "            column_names = existing_df.columns.tolist()\n",
        "            if 'timestamp' in column_names:\n",
        "                column_names.remove('timestamp')\n",
        "        else:\n",
        "            column_names = ['Logo', 'Nombre', 'Símbolo', 'Precio (USD)', 'Vol. (24h)', 'Vol. total', 'Var. (24h)', 'Var. (7d)', 'Cap. mercado']\n",
        "\n",
        "        # Crear DataFrame con nombres de columnas detectados\n",
        "        crypto_table = pd.DataFrame(data, columns=column_names)\n",
        "\n",
        "        # Agregar columna de timestamp\n",
        "        crypto_table['timestamp'] = datetime.datetime.now()\n",
        "        return crypto_table\n",
        "    else:\n",
        "        print(\"No se encontraron tablas en la página.\")\n",
        "        return None"
      ],
      "metadata": {
        "id": "mn_kjP9b2Krf"
      },
      "execution_count": null,
      "outputs": []
    },
    {
      "cell_type": "markdown",
      "source": [
        "# Detección de Cambios"
      ],
      "metadata": {
        "id": "UzRJMUVAgoi0"
      }
    },
    {
      "cell_type": "code",
      "source": [
        "def detectar_cambios(nuevos_datos):\n",
        "    \"\"\"\n",
        "    Compara los nuevos datos con el archivo CSV existente para detectar cambios.\n",
        "    \"\"\"\n",
        "    if os.path.exists(archivo_csv):\n",
        "        # Leer el archivo CSV existente\n",
        "        datos_existentes = pd.read_csv(archivo_csv)\n",
        "\n",
        "        print(\"\\nDatos actuales en el archivo CSV:\")\n",
        "        #display(datos_existentes.head())\n",
        "\n",
        "        print(\"\\nNuevos datos extraídos:\")\n",
        "        #display(nuevos_datos.head())\n",
        "\n",
        "        # Comparar todas las columnas clave para identificar cambios\n",
        "        columnas_clave = ['Logo', 'Nombre', 'Símbolo', 'Precio (USD)', 'Vol. (24h)', 'Vol. total', 'Var. (24h)', 'Var. (7d)', 'Cap. mercado']\n",
        "        cambios = nuevos_datos[~nuevos_datos[columnas_clave].apply(tuple, axis=1).isin(\n",
        "            datos_existentes[columnas_clave].apply(tuple, axis=1)\n",
        "        )]\n",
        "\n",
        "        if not cambios.empty:\n",
        "            print(\"\\nCambios detectados en los datos:\")\n",
        "            #print(cambios)\n",
        "        else:\n",
        "            print(\"\\nNo se detectaron cambios en los datos.\")\n",
        "        return cambios\n",
        "    else:\n",
        "        print(\"\\nNo existe un archivo previo. Todos los datos se considerarán nuevos.\")\n",
        "        print(\"\\nNuevos datos extraídos:\")\n",
        "        #print(nuevos_datos.head())\n",
        "        return nuevos_datos"
      ],
      "metadata": {
        "id": "zNJurHE02IOF"
      },
      "execution_count": null,
      "outputs": []
    },
    {
      "cell_type": "markdown",
      "source": [
        "# Guardado de Datos"
      ],
      "metadata": {
        "id": "WhzG17owgmbk"
      }
    },
    {
      "cell_type": "code",
      "source": [
        "def guardar_datos(nuevos_datos, conn):\n",
        "    cursor = conn.cursor()\n",
        "    datos_actualizados = nuevos_datos\n",
        "    # Escribir los datos actualizados en el archivo CSV sin el índice\n",
        "    datos_actualizados.to_csv(archivo_csv, index=False, encoding='utf-8-sig')\n",
        "    print(f\"\\nDatos actualizados guardados en {archivo_csv}.\")\n",
        "\n",
        "    #Nuevo csv para transformaciones\n",
        "    datos = pd.read_csv(archivo_csv)\n",
        "    datos['Precio (USD)'] = datos['Precio (USD)'].str.replace('.', '', regex=False).str.replace(',', '.', regex=False).astype(float)\n",
        "    datos.to_csv(csv_transformaciones, index=False, encoding='utf-8-sig')\n",
        "    print(f\"Datos con 'Precio (USD)' transformado guardados en {csv_transformaciones}.\")\n",
        "\n",
        "     # Agregar nuevos datos a la base SQL\n",
        "    for index, row in datos.iterrows():\n",
        "        nombre = row['Nombre']\n",
        "        precio = row['Precio (USD)']\n",
        "        fecha_actualizacion = row['timestamp']\n",
        "\n",
        "        cursor.execute(\"\"\"\n",
        "            INSERT INTO datos_criptos (Nombre, Precio, Fecha_Actualizacion)\n",
        "            VALUES (?, ?, ?)\n",
        "        \"\"\", (nombre, precio, fecha_actualizacion))\n",
        "\n",
        "    conn.commit()\n",
        "\n",
        "    print(\"Datos guardados en la base de datos.\")"
      ],
      "metadata": {
        "id": "wE6hGyvG2GSH"
      },
      "execution_count": null,
      "outputs": []
    },
    {
      "cell_type": "markdown",
      "source": [
        "# Base de Datos SQL"
      ],
      "metadata": {
        "id": "YifVffk6guSo"
      }
    },
    {
      "cell_type": "code",
      "source": [
        "def initialize_database(db_file=\"datos_criptos.db\"):\n",
        "    \"\"\"Initializes the SQLite database.\"\"\"\n",
        "    conn = sqlite3.connect(db_file)\n",
        "    cursor = conn.cursor()\n",
        "\n",
        "    cursor.execute(\"SELECT name FROM sqlite_master WHERE type='table' AND name='datos_criptos'\")\n",
        "    table_exists = cursor.fetchone() is not None\n",
        "\n",
        "    if not table_exists:\n",
        "        cursor.execute(\"\"\"\n",
        "            CREATE TABLE datos_criptos (\n",
        "                Nombre TEXT,\n",
        "                Precio REAL,\n",
        "                Fecha_Actualizacion TIMESTAMP\n",
        "            )\n",
        "        \"\"\")\n",
        "        conn.commit()\n",
        "\n",
        "    return conn"
      ],
      "metadata": {
        "id": "tT9mZA_erIc1"
      },
      "execution_count": null,
      "outputs": []
    },
    {
      "cell_type": "markdown",
      "source": [
        "# Obtención Estadísticas Recientes"
      ],
      "metadata": {
        "id": "6AFzUAowgiTK"
      }
    },
    {
      "cell_type": "code",
      "source": [
        "def estadisticas_recientes(conn, timeframe_minutes=10, delete_outdated=False):\n",
        "    \"\"\"\n",
        "    Calculates average, maximum, and minimum prices for each coin in the last 10 minutes\n",
        "    from the database, and optionally deletes outdated records.\n",
        "    \"\"\"\n",
        "    try:\n",
        "        cursor = conn.cursor()\n",
        "        timeframe_ago = datetime.datetime.now() - datetime.timedelta(minutes=timeframe_minutes)\n",
        "\n",
        "        # Obtención de los nombres de las monedas\n",
        "        cursor.execute(\"SELECT DISTINCT Nombre FROM datos_criptos\")\n",
        "        coin_names = [row[0] for row in cursor.fetchall()]\n",
        "\n",
        "        if delete_outdated:\n",
        "            cursor.execute(\n",
        "                \"DELETE FROM datos_criptos WHERE Fecha_Actualizacion < ?\", (timeframe_ago,)\n",
        "            )\n",
        "            conn.commit()\n",
        "            print(f\"\\nDatos obsoletos (anteriores a {timeframe_minutes} minutos) eliminados.\")\n",
        "            print(\"\")\n",
        "\n",
        "        for coin_name in coin_names:\n",
        "            cursor.execute(\n",
        "                \"\"\"\n",
        "                SELECT AVG(Precio), MAX(Precio), MIN(Precio)\n",
        "                FROM datos_criptos\n",
        "                WHERE Nombre = ? AND Fecha_Actualizacion >= ?\n",
        "                \"\"\",\n",
        "                (coin_name, timeframe_ago),\n",
        "            )\n",
        "            result = cursor.fetchone()\n",
        "\n",
        "            if result:\n",
        "                avg_price, max_price, min_price = result\n",
        "            else:\n",
        "                print(f\"No se encontraron datos para {coin_name} en los últimos {timeframe_minutes} minutes.\")\n",
        "\n",
        "\n",
        "    except sqlite3.Error as e:\n",
        "        print(f\"Error accessing the database: {e}\")"
      ],
      "metadata": {
        "id": "37E0DdaWQqkS"
      },
      "execution_count": null,
      "outputs": []
    },
    {
      "cell_type": "markdown",
      "source": [
        "# DataFrame con Estadísticas Para Visualización"
      ],
      "metadata": {
        "id": "NQkZ7G4AVpBC"
      }
    },
    {
      "cell_type": "code",
      "source": [
        "def estadisticas_df(conn, timeframe_minutes=60):\n",
        "    estadisticas_recientes(conn, timeframe_minutes, delete_outdated=False)\n",
        "\n",
        "    original_data = pd.read_csv(\"datos_criptos_oper.csv\")\n",
        "    stats_data = []\n",
        "    monedas = original_data['Nombre'].tolist()\n",
        "\n",
        "    cursor = conn.cursor()\n",
        "    tiempo_pasado = datetime.datetime.now() - datetime.timedelta(minutes=timeframe_minutes)\n",
        "    ultimo_dato = tiempo_pasado - datetime.timedelta(minutes=timeframe_minutes)\n",
        "\n",
        "    # Para tiempo especificado\n",
        "    for moneda in monedas:\n",
        "        cursor.execute(\"\"\"\n",
        "            SELECT AVG(Precio), MAX(Precio), MIN(Precio)\n",
        "            FROM datos_criptos\n",
        "            WHERE Nombre = ? AND Fecha_Actualizacion >= ?\n",
        "        \"\"\", (moneda, tiempo_pasado))\n",
        "        result = cursor.fetchone()\n",
        "\n",
        "        if result:\n",
        "            avg_price, max_price, min_price = result\n",
        "\n",
        "            # Selección de moneda \"actual\"\n",
        "            coin_row = original_data[original_data['Nombre'] == moneda].iloc[0]\n",
        "\n",
        "            # Precio actual\n",
        "            actual_price = float(coin_row['Precio (USD)'])\n",
        "\n",
        "            # Obtención precio anterior\n",
        "            cursor.execute(\"\"\"\n",
        "                SELECT AVG(Precio)\n",
        "                FROM datos_criptos\n",
        "                WHERE Nombre = ? AND Fecha_Actualizacion BETWEEN ? AND ?\n",
        "            \"\"\", (moneda, ultimo_dato, tiempo_pasado))\n",
        "            previous_avg_result = cursor.fetchone()\n",
        "\n",
        "            if previous_avg_result and previous_avg_result[0] is not None:\n",
        "                previous_avg_price = previous_avg_result[0]\n",
        "\n",
        "                # Cambio de precio\n",
        "                if actual_price > previous_avg_price:\n",
        "                    price_change = \"B\"\n",
        "                elif actual_price < previous_avg_price:\n",
        "                    price_change = \"S\"\n",
        "                else:\n",
        "                    price_change = \"Sin Cambios\"\n",
        "            else:\n",
        "                price_change = \"N/A\"  # Primer dato\n",
        "\n",
        "            # Agregar datos a una lista para creación de df\n",
        "            stats_data.append([coin_row['Logo'], coin_row['Nombre'], coin_row['Símbolo'], coin_row['Precio (USD)'],\n",
        "                              avg_price, max_price, min_price, price_change])\n",
        "\n",
        "    stats_df = pd.DataFrame(stats_data,\n",
        "                            columns=['Logo', 'Nombre', 'Símbolo', 'Actual Pric.', 'AVG Price', 'Higest 1H', 'Lower 1H', 'Signal(B|S)'])\n",
        "\n",
        "    return stats_df"
      ],
      "metadata": {
        "id": "9ehr30S8TxNe"
      },
      "execution_count": null,
      "outputs": []
    },
    {
      "cell_type": "markdown",
      "source": [
        "# Tabla HTML para visualizacion en Colab"
      ],
      "metadata": {
        "id": "8WVq7zdMt0iF"
      }
    },
    {
      "cell_type": "code",
      "source": [
        "def create_html_table(df):\n",
        "    html = \"<table>\"\n",
        "    # Cabecera\n",
        "    html += \"<tr>\"\n",
        "    for col in df.columns:\n",
        "        html += f\"<th>{col}</th>\"\n",
        "    html += \"</tr>\"\n",
        "\n",
        "    # Filas\n",
        "    for index, row in df.iterrows():\n",
        "        html += \"<tr>\"\n",
        "        for col in df.columns:\n",
        "            if col == \"Logo\":\n",
        "                html += f'<td><img src=\"{row[col]}\" width=\"25\"></td>'\n",
        "            else:\n",
        "                html += f\"<td>{row[col]}</td>\"\n",
        "        html += \"</tr>\"\n",
        "\n",
        "    html += \"</table>\"\n",
        "    return html"
      ],
      "metadata": {
        "id": "JpiJKSVJE7QE"
      },
      "execution_count": null,
      "outputs": []
    },
    {
      "cell_type": "markdown",
      "source": [
        "# Conversión a Formato Original"
      ],
      "metadata": {
        "id": "BZGkc6DWgR9P"
      }
    },
    {
      "cell_type": "code",
      "source": [
        "def formato(price):\n",
        "    # Obtener decimales\n",
        "    decimales = len(str(price).split('.')[-1]) if '.' in str(price) else 0\n",
        "\n",
        "    # Poner formato original de la página de extracción\n",
        "    precio_formato = \"{:,.{decimales}f}\".format(price, decimales=decimales)\n",
        "    precio_formato = precio_formato.replace(\",\", \"X\").replace(\".\", \",\").replace(\"X\", \".\")\n",
        "\n",
        "    return precio_formato"
      ],
      "metadata": {
        "id": "B4xdgHX4clnR"
      },
      "execution_count": null,
      "outputs": []
    },
    {
      "cell_type": "markdown",
      "source": [
        "# Función Principal"
      ],
      "metadata": {
        "id": "7MEHyYEat4d2"
      }
    },
    {
      "cell_type": "code",
      "source": [
        "def main():\n",
        "    \"\"\"\n",
        "    Proceso principal de extracción, comparación y guardado de datos.\n",
        "    \"\"\"\n",
        "    conn = initialize_database()\n",
        "\n",
        "    nuevos_datos = extraer_datos()\n",
        "    if nuevos_datos is not None:\n",
        "        cambios = detectar_cambios(nuevos_datos)\n",
        "        if cambios is not None and not cambios.empty:\n",
        "            print(\"\\nGuardando cambios detectados...\")\n",
        "            guardar_datos(nuevos_datos, conn)\n",
        "        elif not os.path.exists(archivo_csv):\n",
        "            print(\"\\nNo existe archivo previo. Guardando los datos iniciales...\")\n",
        "            guardar_datos(nuevos_datos, conn)\n",
        "        else:\n",
        "            print(\"\\nNo se detectaron cambios, y el archivo ya está actualizado.\")\n",
        "            guardar_datos(nuevos_datos, conn)\n",
        "    else:\n",
        "        print(\"\\nNo se pudieron extraer datos.\")\n",
        "\n",
        "    print(\"\")\n",
        "    print(\"-------------------------------------------\")\n",
        "    print(\"\")\n",
        "\n",
        "    stats_df = estadisticas_df(conn, timeframe_minutes=10)\n",
        "    stats_df.to_csv(\"tabla_final.csv\")\n",
        "    stats_df['Actual Pric.'] = stats_df['Actual Pric.'].apply(formato)\n",
        "    stats_df['AVG Price'] = stats_df['AVG Price'].apply(formato)\n",
        "    stats_df['Higest 1H'] = stats_df['Higest 1H'].apply(formato)\n",
        "    stats_df['Lower 1H'] = stats_df['Lower 1H'].apply(formato)\n",
        "\n",
        "    try:\n",
        "        df = stats_df\n",
        "        html_table = create_html_table(df)\n",
        "        display(HTML(html_table))\n",
        "    except FileNotFoundError:\n",
        "        print(\"El archivo CSV no se encontró.\")\n",
        "        return"
      ],
      "metadata": {
        "id": "tmns_pvp2Dst"
      },
      "execution_count": null,
      "outputs": []
    },
    {
      "cell_type": "code",
      "source": [
        "if __name__ == \"__main__\":\n",
        "    main()"
      ],
      "metadata": {
        "colab": {
          "base_uri": "https://localhost:8080/",
          "height": 634
        },
        "id": "gLI5BtwD2Cgp",
        "outputId": "b4e66976-36d2-434d-e6cd-bd5f5d232e50"
      },
      "execution_count": null,
      "outputs": [
        {
          "output_type": "stream",
          "name": "stdout",
          "text": [
            "\n",
            "Datos actuales en el archivo CSV:\n",
            "\n",
            "Nuevos datos extraídos:\n",
            "\n",
            "Cambios detectados en los datos:\n",
            "\n",
            "Guardando cambios detectados...\n",
            "\n",
            "Datos actualizados guardados en datos_criptomonedas.csv.\n",
            "Datos con 'Precio (USD)' transformado guardados en datos_criptos_oper.csv.\n",
            "Datos guardados en la base de datos.\n",
            "\n",
            "-------------------------------------------\n",
            "\n"
          ]
        },
        {
          "output_type": "display_data",
          "data": {
            "text/plain": [
              "<IPython.core.display.HTML object>"
            ],
            "text/html": [
              "<table><tr><th>Logo</th><th>Nombre</th><th>Símbolo</th><th>Actual Pric.</th><th>AVG Price</th><th>Higest 1H</th><th>Lower 1H</th><th>Signal(B|S)</th></tr><tr><td><img src=\"https://cdn.investing.com/crypto-logos/20x20/v2/bitcoin.png\" width=\"25\"></td><td>Bitcoin</td><td>BTC</td><td>94.696,4</td><td>94.586,26666666666</td><td>94.696,4</td><td>94.531,2</td><td>B</td></tr><tr><td><img src=\"https://cdn.investing.com/crypto-logos/20x20/v2/ethereum.png\" width=\"25\"></td><td>Ethereum</td><td>ETH</td><td>3.060,05</td><td>3.068,0433333333335</td><td>3.072,04</td><td>3.060,05</td><td>S</td></tr><tr><td><img src=\"https://cdn.investing.com/crypto-logos/20x20/v2/tether.png\" width=\"25\"></td><td>Tether USDt</td><td>USDT</td><td>1,0008</td><td>1,0007333333333333</td><td>1,0008</td><td>1,0007</td><td>B</td></tr><tr><td><img src=\"https://cdn.investing.com/crypto-logos/20x20/v2/solana.png\" width=\"25\"></td><td>Solana</td><td>SOL</td><td>233,902</td><td>234,82866666666666</td><td>235,292</td><td>233,902</td><td>S</td></tr><tr><td><img src=\"https://cdn.investing.com/crypto-logos/20x20/v2/bnb.png\" width=\"25\"></td><td>BNB</td><td>BNB</td><td>601,63</td><td>601,8433333333334</td><td>601,95</td><td>601,63</td><td>S</td></tr><tr><td><img src=\"https://cdn.investing.com/crypto-logos/20x20/v2/xrp.png\" width=\"25\"></td><td>XRP</td><td>XRP</td><td>1,0974</td><td>1,1059666666666668</td><td>1,1124</td><td>1,0974</td><td>S</td></tr><tr><td><img src=\"https://cdn.investing.com/crypto-logos/20x20/v2/dogecoin.png\" width=\"25\"></td><td>Dogecoin</td><td>DOGE</td><td>0,377105</td><td>0,37815100000000007</td><td>0,378674</td><td>0,377105</td><td>S</td></tr><tr><td><img src=\"https://cdn.investing.com/crypto-logos/20x20/v2/usd-coin.png\" width=\"25\"></td><td>USDC</td><td>USDC</td><td>0,9991</td><td>0,9990333333333333</td><td>0,9991</td><td>0,999</td><td>B</td></tr><tr><td><img src=\"https://cdn.investing.com/crypto-logos/20x20/v2/cardano.png\" width=\"25\"></td><td>Cardano</td><td>ADA</td><td>0,7775</td><td>0,7822333333333332</td><td>0,7846</td><td>0,7775</td><td>S</td></tr><tr><td><img src=\"https://cdn.investing.com/crypto-logos/20x20/v2/tron.png\" width=\"25\"></td><td>TRON</td><td>TRX</td><td>0,195105</td><td>0,195505</td><td>0,195705</td><td>0,195105</td><td>S</td></tr></table>"
            ]
          },
          "metadata": {}
        }
      ]
    }
  ]
}